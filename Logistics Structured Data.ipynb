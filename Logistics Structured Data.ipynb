{
 "cells": [
  {
   "cell_type": "code",
   "execution_count": 23,
   "id": "ecb85694-441c-4771-b418-0a750e6e71e6",
   "metadata": {},
   "outputs": [
    {
     "name": "stdout",
     "output_type": "stream",
     "text": [
      "                    timestamp package_id    gps_lat    gps_long    rfid_code  \\\n",
      "0  2025-05-08 18:06:32.381015    PKG6937  14.588631  120.981015  RFID-932594   \n",
      "1  2025-05-07 23:56:32.382983    PKG3917  14.610548  121.000043  RFID-817222   \n",
      "2  2025-05-08 16:56:32.383031    PKG8541  14.603075  120.991571  RFID-573856   \n",
      "3  2025-05-08 14:38:32.383061    PKG1605  14.582660  120.982748  RFID-724205   \n",
      "4  2025-05-08 06:03:32.383086    PKG3198  14.595918  120.988305  RFID-186867   \n",
      "5  2025-05-08 18:47:32.383111    PKG6320  14.604519  120.973825  RFID-520390   \n",
      "6  2025-05-08 12:45:32.383141    PKG9452  14.603932  120.989150  RFID-572430   \n",
      "7  2025-05-08 15:31:32.383170    PKG1219  14.592196  120.989214  RFID-425216   \n",
      "8  2025-05-08 13:15:32.383235    PKG2327  14.582451  120.982497  RFID-692798   \n",
      "9  2025-05-08 00:45:32.383277    PKG1055  14.583946  120.977390  RFID-376115   \n",
      "\n",
      "   temperature_c  \n",
      "0            4.0  \n",
      "1            5.5  \n",
      "2            3.6  \n",
      "3            5.1  \n",
      "4            3.7  \n",
      "5            4.1  \n",
      "6            7.1  \n",
      "7            4.9  \n",
      "8            5.4  \n",
      "9            6.1  \n"
     ]
    }
   ],
   "source": [
    "import pandas as pd\n",
    "\n",
    "# Load the data\n",
    "df = pd.read_csv(\"/Users/gillianmondero/Downloads/MO-IT148-Homework-IoT-Data-Simulation-A3101-EmberOps-main/logistics_data.csv\")\n",
    "print(df.head(10))"
   ]
  },
  {
   "cell_type": "code",
   "execution_count": 25,
   "id": "11bbb837-5574-4bf0-84fb-f2ac1cdc016d",
   "metadata": {},
   "outputs": [
    {
     "name": "stdout",
     "output_type": "stream",
     "text": [
      "Missing values per column:\n",
      "timestamp        0\n",
      "package_id       0\n",
      "gps_lat          0\n",
      "gps_long         0\n",
      "rfid_code        0\n",
      "temperature_c    0\n",
      "dtype: int64\n"
     ]
    }
   ],
   "source": [
    "# Check for missing values\n",
    "print(\"Missing values per column:\")\n",
    "print(df.isnull().sum())"
   ]
  },
  {
   "cell_type": "code",
   "execution_count": 27,
   "id": "c5c03855-2305-49da-b215-92c718a69e70",
   "metadata": {},
   "outputs": [
    {
     "name": "stdout",
     "output_type": "stream",
     "text": [
      "\n",
      "Preview of the dataset:\n",
      "                    timestamp package_id    gps_lat    gps_long    rfid_code  \\\n",
      "0  2025-05-08 18:06:32.381015    PKG6937  14.588631  120.981015  RFID-932594   \n",
      "1  2025-05-07 23:56:32.382983    PKG3917  14.610548  121.000043  RFID-817222   \n",
      "2  2025-05-08 16:56:32.383031    PKG8541  14.603075  120.991571  RFID-573856   \n",
      "3  2025-05-08 14:38:32.383061    PKG1605  14.582660  120.982748  RFID-724205   \n",
      "4  2025-05-08 06:03:32.383086    PKG3198  14.595918  120.988305  RFID-186867   \n",
      "\n",
      "   temperature_c  \n",
      "0            4.0  \n",
      "1            5.5  \n",
      "2            3.6  \n",
      "3            5.1  \n",
      "4            3.7  \n"
     ]
    }
   ],
   "source": [
    "# Show first few rows\n",
    "print(\"\\nPreview of the dataset:\")\n",
    "print(df.head())"
   ]
  },
  {
   "cell_type": "code",
   "execution_count": 33,
   "id": "e72ab8d4-9316-47da-93dc-b6488d3a0f76",
   "metadata": {},
   "outputs": [],
   "source": [
    "# Save Preprocessed Data\n",
    "df.to_csv(\"logistics_structured_data.csv\", index=False)"
   ]
  },
  {
   "cell_type": "code",
   "execution_count": null,
   "id": "ede5afec-be61-400a-b00b-84d1e68310e8",
   "metadata": {},
   "outputs": [],
   "source": []
  }
 ],
 "metadata": {
  "kernelspec": {
   "display_name": "Python 3 (ipykernel)",
   "language": "python",
   "name": "python3"
  },
  "language_info": {
   "codemirror_mode": {
    "name": "ipython",
    "version": 3
   },
   "file_extension": ".py",
   "mimetype": "text/x-python",
   "name": "python",
   "nbconvert_exporter": "python",
   "pygments_lexer": "ipython3",
   "version": "3.12.2"
  }
 },
 "nbformat": 4,
 "nbformat_minor": 5
}
